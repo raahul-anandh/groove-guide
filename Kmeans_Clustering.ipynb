{
 "cells": [
  {
   "cell_type": "code",
   "execution_count": 106,
   "id": "2986f86a-4d6d-456b-b754-0c80193743d0",
   "metadata": {},
   "outputs": [],
   "source": [
    "import pandas as pd\n",
    "from sklearn.cluster import KMeans\n",
    "from sklearn.metrics import silhouette_score\n",
    "import matplotlib.pyplot as plt\n",
    "from sklearn.preprocessing import StandardScaler\n",
    "import seaborn as sns\n",
    "from sklearn.cluster import DBSCAN\n",
    "from sklearn.cluster import OPTICS\n",
    "import matplotlib.pyplot as plt\n",
    "import math\n",
    "import joblib"
   ]
  },
  {
   "cell_type": "code",
   "execution_count": 107,
   "id": "56d076ae",
   "metadata": {},
   "outputs": [],
   "source": [
    "df=pd.read_parquet('cleaned_data/track_features.parquet')"
   ]
  },
  {
   "cell_type": "code",
   "execution_count": 108,
   "id": "b09cbcae",
   "metadata": {},
   "outputs": [
    {
     "data": {
      "text/html": [
       "<div>\n",
       "<style scoped>\n",
       "    .dataframe tbody tr th:only-of-type {\n",
       "        vertical-align: middle;\n",
       "    }\n",
       "\n",
       "    .dataframe tbody tr th {\n",
       "        vertical-align: top;\n",
       "    }\n",
       "\n",
       "    .dataframe thead th {\n",
       "        text-align: right;\n",
       "    }\n",
       "</style>\n",
       "<table border=\"1\" class=\"dataframe\">\n",
       "  <thead>\n",
       "    <tr style=\"text-align: right;\">\n",
       "      <th></th>\n",
       "      <th>track_id</th>\n",
       "      <th>duration</th>\n",
       "      <th>release_year</th>\n",
       "      <th>us_popularity_estimate</th>\n",
       "      <th>acousticness</th>\n",
       "      <th>beat_strength</th>\n",
       "      <th>bounciness</th>\n",
       "      <th>danceability</th>\n",
       "      <th>dyn_range_mean</th>\n",
       "      <th>energy</th>\n",
       "      <th>...</th>\n",
       "      <th>time_signature</th>\n",
       "      <th>valence</th>\n",
       "      <th>acoustic_vector_0</th>\n",
       "      <th>acoustic_vector_1</th>\n",
       "      <th>acoustic_vector_2</th>\n",
       "      <th>acoustic_vector_3</th>\n",
       "      <th>acoustic_vector_4</th>\n",
       "      <th>acoustic_vector_5</th>\n",
       "      <th>acoustic_vector_6</th>\n",
       "      <th>acoustic_vector_7</th>\n",
       "    </tr>\n",
       "  </thead>\n",
       "  <tbody>\n",
       "    <tr>\n",
       "      <th>0</th>\n",
       "      <td>336438</td>\n",
       "      <td>326.013336</td>\n",
       "      <td>1971</td>\n",
       "      <td>99.582885</td>\n",
       "      <td>0.716209</td>\n",
       "      <td>0.366495</td>\n",
       "      <td>0.332605</td>\n",
       "      <td>0.439835</td>\n",
       "      <td>5.805774</td>\n",
       "      <td>0.238847</td>\n",
       "      <td>...</td>\n",
       "      <td>4</td>\n",
       "      <td>0.223395</td>\n",
       "      <td>0.146012</td>\n",
       "      <td>-0.706908</td>\n",
       "      <td>0.259496</td>\n",
       "      <td>0.481157</td>\n",
       "      <td>0.238427</td>\n",
       "      <td>-0.098389</td>\n",
       "      <td>-0.254960</td>\n",
       "      <td>-0.227383</td>\n",
       "    </tr>\n",
       "    <tr>\n",
       "      <th>1</th>\n",
       "      <td>1584495</td>\n",
       "      <td>147.813324</td>\n",
       "      <td>1963</td>\n",
       "      <td>97.272035</td>\n",
       "      <td>0.839460</td>\n",
       "      <td>0.362212</td>\n",
       "      <td>0.389829</td>\n",
       "      <td>0.507580</td>\n",
       "      <td>6.845427</td>\n",
       "      <td>0.420476</td>\n",
       "      <td>...</td>\n",
       "      <td>4</td>\n",
       "      <td>0.484702</td>\n",
       "      <td>0.039554</td>\n",
       "      <td>-0.539554</td>\n",
       "      <td>0.105141</td>\n",
       "      <td>0.692589</td>\n",
       "      <td>0.226047</td>\n",
       "      <td>-0.468162</td>\n",
       "      <td>0.164389</td>\n",
       "      <td>-0.769024</td>\n",
       "    </tr>\n",
       "    <tr>\n",
       "      <th>2</th>\n",
       "      <td>1498298</td>\n",
       "      <td>110.400002</td>\n",
       "      <td>1974</td>\n",
       "      <td>99.620384</td>\n",
       "      <td>0.054673</td>\n",
       "      <td>0.495002</td>\n",
       "      <td>0.589378</td>\n",
       "      <td>0.552311</td>\n",
       "      <td>9.361949</td>\n",
       "      <td>0.842938</td>\n",
       "      <td>...</td>\n",
       "      <td>4</td>\n",
       "      <td>0.818441</td>\n",
       "      <td>0.083863</td>\n",
       "      <td>-0.242108</td>\n",
       "      <td>-0.014258</td>\n",
       "      <td>0.096396</td>\n",
       "      <td>0.417641</td>\n",
       "      <td>-0.050576</td>\n",
       "      <td>-0.204757</td>\n",
       "      <td>-0.172563</td>\n",
       "    </tr>\n",
       "    <tr>\n",
       "      <th>3</th>\n",
       "      <td>112304</td>\n",
       "      <td>237.653336</td>\n",
       "      <td>1988</td>\n",
       "      <td>96.796830</td>\n",
       "      <td>0.042606</td>\n",
       "      <td>0.389634</td>\n",
       "      <td>0.359044</td>\n",
       "      <td>0.585673</td>\n",
       "      <td>6.068578</td>\n",
       "      <td>0.665398</td>\n",
       "      <td>...</td>\n",
       "      <td>4</td>\n",
       "      <td>0.594829</td>\n",
       "      <td>0.192498</td>\n",
       "      <td>0.340039</td>\n",
       "      <td>0.034846</td>\n",
       "      <td>-0.389794</td>\n",
       "      <td>0.518381</td>\n",
       "      <td>0.185008</td>\n",
       "      <td>-0.079907</td>\n",
       "      <td>-0.016978</td>\n",
       "    </tr>\n",
       "    <tr>\n",
       "      <th>4</th>\n",
       "      <td>395210</td>\n",
       "      <td>174.600006</td>\n",
       "      <td>1987</td>\n",
       "      <td>97.905891</td>\n",
       "      <td>0.249982</td>\n",
       "      <td>0.513640</td>\n",
       "      <td>0.485435</td>\n",
       "      <td>0.635095</td>\n",
       "      <td>7.198735</td>\n",
       "      <td>0.408715</td>\n",
       "      <td>...</td>\n",
       "      <td>4</td>\n",
       "      <td>0.591289</td>\n",
       "      <td>0.270586</td>\n",
       "      <td>-0.411061</td>\n",
       "      <td>0.165898</td>\n",
       "      <td>0.225652</td>\n",
       "      <td>0.335518</td>\n",
       "      <td>-0.036643</td>\n",
       "      <td>-0.016300</td>\n",
       "      <td>-0.446870</td>\n",
       "    </tr>\n",
       "  </tbody>\n",
       "</table>\n",
       "<p>5 rows × 30 columns</p>\n",
       "</div>"
      ],
      "text/plain": [
       "   track_id    duration  release_year  us_popularity_estimate  acousticness  \\\n",
       "0    336438  326.013336          1971               99.582885      0.716209   \n",
       "1   1584495  147.813324          1963               97.272035      0.839460   \n",
       "2   1498298  110.400002          1974               99.620384      0.054673   \n",
       "3    112304  237.653336          1988               96.796830      0.042606   \n",
       "4    395210  174.600006          1987               97.905891      0.249982   \n",
       "\n",
       "   beat_strength  bounciness  danceability  dyn_range_mean    energy  ...  \\\n",
       "0       0.366495    0.332605      0.439835        5.805774  0.238847  ...   \n",
       "1       0.362212    0.389829      0.507580        6.845427  0.420476  ...   \n",
       "2       0.495002    0.589378      0.552311        9.361949  0.842938  ...   \n",
       "3       0.389634    0.359044      0.585673        6.068578  0.665398  ...   \n",
       "4       0.513640    0.485435      0.635095        7.198735  0.408715  ...   \n",
       "\n",
       "   time_signature   valence  acoustic_vector_0  acoustic_vector_1  \\\n",
       "0               4  0.223395           0.146012          -0.706908   \n",
       "1               4  0.484702           0.039554          -0.539554   \n",
       "2               4  0.818441           0.083863          -0.242108   \n",
       "3               4  0.594829           0.192498           0.340039   \n",
       "4               4  0.591289           0.270586          -0.411061   \n",
       "\n",
       "   acoustic_vector_2  acoustic_vector_3  acoustic_vector_4  acoustic_vector_5  \\\n",
       "0           0.259496           0.481157           0.238427          -0.098389   \n",
       "1           0.105141           0.692589           0.226047          -0.468162   \n",
       "2          -0.014258           0.096396           0.417641          -0.050576   \n",
       "3           0.034846          -0.389794           0.518381           0.185008   \n",
       "4           0.165898           0.225652           0.335518          -0.036643   \n",
       "\n",
       "   acoustic_vector_6  acoustic_vector_7  \n",
       "0          -0.254960          -0.227383  \n",
       "1           0.164389          -0.769024  \n",
       "2          -0.204757          -0.172563  \n",
       "3          -0.079907          -0.016978  \n",
       "4          -0.016300          -0.446870  \n",
       "\n",
       "[5 rows x 30 columns]"
      ]
     },
     "execution_count": 108,
     "metadata": {},
     "output_type": "execute_result"
    }
   ],
   "source": [
    "df.head()"
   ]
  },
  {
   "cell_type": "code",
   "execution_count": 109,
   "id": "06c40595",
   "metadata": {},
   "outputs": [],
   "source": [
    "keys=df['track_id'].values"
   ]
  },
  {
   "cell_type": "code",
   "execution_count": 110,
   "id": "1dc8d2fc",
   "metadata": {},
   "outputs": [],
   "source": [
    "df=df.drop('track_id',axis=1)"
   ]
  },
  {
   "cell_type": "code",
   "execution_count": 111,
   "id": "ea49ff3e",
   "metadata": {},
   "outputs": [
    {
     "data": {
      "text/html": [
       "<div>\n",
       "<style scoped>\n",
       "    .dataframe tbody tr th:only-of-type {\n",
       "        vertical-align: middle;\n",
       "    }\n",
       "\n",
       "    .dataframe tbody tr th {\n",
       "        vertical-align: top;\n",
       "    }\n",
       "\n",
       "    .dataframe thead th {\n",
       "        text-align: right;\n",
       "    }\n",
       "</style>\n",
       "<table border=\"1\" class=\"dataframe\">\n",
       "  <thead>\n",
       "    <tr style=\"text-align: right;\">\n",
       "      <th></th>\n",
       "      <th>duration</th>\n",
       "      <th>release_year</th>\n",
       "      <th>us_popularity_estimate</th>\n",
       "      <th>acousticness</th>\n",
       "      <th>beat_strength</th>\n",
       "      <th>bounciness</th>\n",
       "      <th>danceability</th>\n",
       "      <th>dyn_range_mean</th>\n",
       "      <th>energy</th>\n",
       "      <th>flatness</th>\n",
       "      <th>...</th>\n",
       "      <th>time_signature</th>\n",
       "      <th>valence</th>\n",
       "      <th>acoustic_vector_0</th>\n",
       "      <th>acoustic_vector_1</th>\n",
       "      <th>acoustic_vector_2</th>\n",
       "      <th>acoustic_vector_3</th>\n",
       "      <th>acoustic_vector_4</th>\n",
       "      <th>acoustic_vector_5</th>\n",
       "      <th>acoustic_vector_6</th>\n",
       "      <th>acoustic_vector_7</th>\n",
       "    </tr>\n",
       "  </thead>\n",
       "  <tbody>\n",
       "    <tr>\n",
       "      <th>0</th>\n",
       "      <td>326.013336</td>\n",
       "      <td>1971</td>\n",
       "      <td>99.582885</td>\n",
       "      <td>0.716209</td>\n",
       "      <td>0.366495</td>\n",
       "      <td>0.332605</td>\n",
       "      <td>0.439835</td>\n",
       "      <td>5.805774</td>\n",
       "      <td>0.238847</td>\n",
       "      <td>1.010700</td>\n",
       "      <td>...</td>\n",
       "      <td>4</td>\n",
       "      <td>0.223395</td>\n",
       "      <td>0.146012</td>\n",
       "      <td>-0.706908</td>\n",
       "      <td>0.259496</td>\n",
       "      <td>0.481157</td>\n",
       "      <td>0.238427</td>\n",
       "      <td>-0.098389</td>\n",
       "      <td>-0.254960</td>\n",
       "      <td>-0.227383</td>\n",
       "    </tr>\n",
       "    <tr>\n",
       "      <th>1</th>\n",
       "      <td>147.813324</td>\n",
       "      <td>1963</td>\n",
       "      <td>97.272035</td>\n",
       "      <td>0.839460</td>\n",
       "      <td>0.362212</td>\n",
       "      <td>0.389829</td>\n",
       "      <td>0.507580</td>\n",
       "      <td>6.845427</td>\n",
       "      <td>0.420476</td>\n",
       "      <td>1.000398</td>\n",
       "      <td>...</td>\n",
       "      <td>4</td>\n",
       "      <td>0.484702</td>\n",
       "      <td>0.039554</td>\n",
       "      <td>-0.539554</td>\n",
       "      <td>0.105141</td>\n",
       "      <td>0.692589</td>\n",
       "      <td>0.226047</td>\n",
       "      <td>-0.468162</td>\n",
       "      <td>0.164389</td>\n",
       "      <td>-0.769024</td>\n",
       "    </tr>\n",
       "    <tr>\n",
       "      <th>2</th>\n",
       "      <td>110.400002</td>\n",
       "      <td>1974</td>\n",
       "      <td>99.620384</td>\n",
       "      <td>0.054673</td>\n",
       "      <td>0.495002</td>\n",
       "      <td>0.589378</td>\n",
       "      <td>0.552311</td>\n",
       "      <td>9.361949</td>\n",
       "      <td>0.842938</td>\n",
       "      <td>0.957766</td>\n",
       "      <td>...</td>\n",
       "      <td>4</td>\n",
       "      <td>0.818441</td>\n",
       "      <td>0.083863</td>\n",
       "      <td>-0.242108</td>\n",
       "      <td>-0.014258</td>\n",
       "      <td>0.096396</td>\n",
       "      <td>0.417641</td>\n",
       "      <td>-0.050576</td>\n",
       "      <td>-0.204757</td>\n",
       "      <td>-0.172563</td>\n",
       "    </tr>\n",
       "    <tr>\n",
       "      <th>3</th>\n",
       "      <td>237.653336</td>\n",
       "      <td>1988</td>\n",
       "      <td>96.796830</td>\n",
       "      <td>0.042606</td>\n",
       "      <td>0.389634</td>\n",
       "      <td>0.359044</td>\n",
       "      <td>0.585673</td>\n",
       "      <td>6.068578</td>\n",
       "      <td>0.665398</td>\n",
       "      <td>0.947322</td>\n",
       "      <td>...</td>\n",
       "      <td>4</td>\n",
       "      <td>0.594829</td>\n",
       "      <td>0.192498</td>\n",
       "      <td>0.340039</td>\n",
       "      <td>0.034846</td>\n",
       "      <td>-0.389794</td>\n",
       "      <td>0.518381</td>\n",
       "      <td>0.185008</td>\n",
       "      <td>-0.079907</td>\n",
       "      <td>-0.016978</td>\n",
       "    </tr>\n",
       "    <tr>\n",
       "      <th>4</th>\n",
       "      <td>174.600006</td>\n",
       "      <td>1987</td>\n",
       "      <td>97.905891</td>\n",
       "      <td>0.249982</td>\n",
       "      <td>0.513640</td>\n",
       "      <td>0.485435</td>\n",
       "      <td>0.635095</td>\n",
       "      <td>7.198735</td>\n",
       "      <td>0.408715</td>\n",
       "      <td>1.014063</td>\n",
       "      <td>...</td>\n",
       "      <td>4</td>\n",
       "      <td>0.591289</td>\n",
       "      <td>0.270586</td>\n",
       "      <td>-0.411061</td>\n",
       "      <td>0.165898</td>\n",
       "      <td>0.225652</td>\n",
       "      <td>0.335518</td>\n",
       "      <td>-0.036643</td>\n",
       "      <td>-0.016300</td>\n",
       "      <td>-0.446870</td>\n",
       "    </tr>\n",
       "  </tbody>\n",
       "</table>\n",
       "<p>5 rows × 29 columns</p>\n",
       "</div>"
      ],
      "text/plain": [
       "     duration  release_year  us_popularity_estimate  acousticness  \\\n",
       "0  326.013336          1971               99.582885      0.716209   \n",
       "1  147.813324          1963               97.272035      0.839460   \n",
       "2  110.400002          1974               99.620384      0.054673   \n",
       "3  237.653336          1988               96.796830      0.042606   \n",
       "4  174.600006          1987               97.905891      0.249982   \n",
       "\n",
       "   beat_strength  bounciness  danceability  dyn_range_mean    energy  \\\n",
       "0       0.366495    0.332605      0.439835        5.805774  0.238847   \n",
       "1       0.362212    0.389829      0.507580        6.845427  0.420476   \n",
       "2       0.495002    0.589378      0.552311        9.361949  0.842938   \n",
       "3       0.389634    0.359044      0.585673        6.068578  0.665398   \n",
       "4       0.513640    0.485435      0.635095        7.198735  0.408715   \n",
       "\n",
       "   flatness  ...  time_signature   valence  acoustic_vector_0  \\\n",
       "0  1.010700  ...               4  0.223395           0.146012   \n",
       "1  1.000398  ...               4  0.484702           0.039554   \n",
       "2  0.957766  ...               4  0.818441           0.083863   \n",
       "3  0.947322  ...               4  0.594829           0.192498   \n",
       "4  1.014063  ...               4  0.591289           0.270586   \n",
       "\n",
       "   acoustic_vector_1  acoustic_vector_2  acoustic_vector_3  acoustic_vector_4  \\\n",
       "0          -0.706908           0.259496           0.481157           0.238427   \n",
       "1          -0.539554           0.105141           0.692589           0.226047   \n",
       "2          -0.242108          -0.014258           0.096396           0.417641   \n",
       "3           0.340039           0.034846          -0.389794           0.518381   \n",
       "4          -0.411061           0.165898           0.225652           0.335518   \n",
       "\n",
       "   acoustic_vector_5  acoustic_vector_6  acoustic_vector_7  \n",
       "0          -0.098389          -0.254960          -0.227383  \n",
       "1          -0.468162           0.164389          -0.769024  \n",
       "2          -0.050576          -0.204757          -0.172563  \n",
       "3           0.185008          -0.079907          -0.016978  \n",
       "4          -0.036643          -0.016300          -0.446870  \n",
       "\n",
       "[5 rows x 29 columns]"
      ]
     },
     "execution_count": 111,
     "metadata": {},
     "output_type": "execute_result"
    }
   ],
   "source": [
    "df.head()"
   ]
  },
  {
   "cell_type": "code",
   "execution_count": 112,
   "id": "47b74d64",
   "metadata": {},
   "outputs": [],
   "source": [
    "# Standardize the features\n",
    "scaler = StandardScaler()\n",
    "values = scaler.fit_transform(df)"
   ]
  },
  {
   "cell_type": "code",
   "execution_count": 113,
   "id": "38364e94-ccd4-4024-a27f-d8f6c687a9ec",
   "metadata": {},
   "outputs": [
    {
     "name": "stdout",
     "output_type": "stream",
     "text": [
      "3706388\n",
      "3706388\n"
     ]
    }
   ],
   "source": [
    "print(keys.shape[0])\n",
    "print(values.shape[0])\n"
   ]
  },
  {
   "cell_type": "code",
   "execution_count": 114,
   "id": "92d88e3d",
   "metadata": {},
   "outputs": [],
   "source": [
    "track_features={}\n",
    "for i in range(keys.shape[0]):\n",
    "    track_features[keys[i]]=values[i]"
   ]
  },
  {
   "cell_type": "code",
   "execution_count": 126,
   "id": "e3fab940",
   "metadata": {},
   "outputs": [
    {
     "data": {
      "text/plain": [
       "['track_features.joblib']"
      ]
     },
     "execution_count": 126,
     "metadata": {},
     "output_type": "execute_result"
    }
   ],
   "source": [
    "joblib.dump(track_features,'track_features.joblib')"
   ]
  },
  {
   "cell_type": "code",
   "execution_count": 118,
   "id": "9b85f0a3",
   "metadata": {},
   "outputs": [],
   "source": [
    "# Choose the number of clusters (K)\n",
    "k=1000\n"
   ]
  },
  {
   "cell_type": "code",
   "execution_count": 122,
   "id": "c49361dd",
   "metadata": {},
   "outputs": [
    {
     "data": {
      "image/png": "[encoded data removed]",
      "text/plain": [
       "<Figure size 640x480 with 1 Axes>"
      ]
     },
     "metadata": {},
     "output_type": "display_data"
    }
   ],
   "source": [
    "# Instantiate the KMeans model\n",
    "kmeans = KMeans(n_clusters=1400, random_state=42)\n",
    "\n",
    "# Fit the model to the data\n",
    "kmeans.fit(values)\n",
    "\n",
    "# Get the cluster labels and cluster centers\n",
    "labels = kmeans.labels_\n",
    "centers = kmeans.cluster_centers_\n",
    "\n",
    "# Visualize the clusters\n",
    "# plt.scatter(X_train[:, ], X_train[:, 1], c=labels, cmap='viridis', s=50, alpha=0.8)\n",
    "plt.scatter(centers[:, 0], centers[:, 1], c='red', marker='X', s=200, label='Cluster Centers')\n",
    "plt.title('K-Means Clustering')\n",
    "plt.legend()\n",
    "plt.show()\n"
   ]
  },
  {
   "cell_type": "code",
   "execution_count": 125,
   "id": "91c0de4c",
   "metadata": {},
   "outputs": [
    {
     "data": {
      "text/plain": [
       "['Kmeans_clustering_1000.joblib']"
      ]
     },
     "execution_count": 125,
     "metadata": {},
     "output_type": "execute_result"
    }
   ],
   "source": [
    "joblib.dump(kmeans, 'Kmeans_clustering_1000.joblib')"
   ]
  },
  {
   "cell_type": "code",
   "execution_count": null,
   "id": "abe5424e-41c3-4511-a9bc-fba6a06de8da",
   "metadata": {},
   "outputs": [],
   "source": [
    "# Find the optimal number of clusters using the elbow method\n",
    "# inertia = []\n",
    "# for k in range(2, 2000):\n",
    "#     kmeans = KMeans(n_clusters=k, random_state=42)\n",
    "#     kmeans.fit(scaled_features)\n",
    "#     inertia.append(kmeans.inertia_)"
   ]
  },
  {
   "cell_type": "code",
   "execution_count": null,
   "id": "d3b667d8-d4da-4022-846b-c1ad23b21634",
   "metadata": {},
   "outputs": [
    {
     "data": {
      "image/png": "[encoded data removed]",
      "text/plain": [
       "<Figure size 640x480 with 1 Axes>"
      ]
     },
     "metadata": {},
     "output_type": "display_data"
    }
   ],
   "source": [
    "# plt.plot(range(2, 2000), inertia)\n",
    "# plt.xlabel('Number of clusters')\n",
    "# plt.ylabel('Inertia')\n",
    "# plt.title('Elbow Method')\n",
    "# plt.show()\n"
   ]
  },
  {
   "cell_type": "code",
   "execution_count": null,
   "id": "8999b61d-bce5-485c-88a8-1de26e29a583",
   "metadata": {},
   "outputs": [],
   "source": [
    "# Choose the optimal number of clusters and perform k-means clustering\n",
    "# k = int(input(\"Enter the number of clusters: \"))\n",
    "# kmeans = KMeans(n_clusters=k, init='k-means++', random_state=42)\n",
    "# clusters = kmeans.fit_predict(scaled_features)"
   ]
  },
  {
   "cell_type": "code",
   "execution_count": null,
   "id": "b521692b-86b5-47a0-b9b8-33939f05ffe5",
   "metadata": {},
   "outputs": [],
   "source": [
    "\n",
    "# Add cluster labels to the dataset\n",
    "# features['Cluster'] = clusters\n"
   ]
  },
  {
   "cell_type": "code",
   "execution_count": null,
   "id": "4952c652-654a-4271-9c1e-94e358ec4315",
   "metadata": {},
   "outputs": [],
   "source": [
    "# Output the results\n",
    "# print(data)\n"
   ]
  },
  {
   "cell_type": "code",
   "execution_count": null,
   "id": "1f920375-4dd1-4d46-89a6-d2098c25f91b",
   "metadata": {},
   "outputs": [],
   "source": [
    "# Calculate the Davies-Bouldin index to measure the quality of the clustering\n",
    "# db_index = davies_bouldin_score(scaled_features, clusters)\n",
    "# print(\"The Davies-Bouldin index is:\", db_index)\n"
   ]
  },
  {
   "cell_type": "code",
   "execution_count": null,
   "id": "f27818c7-dca4-4155-b1a5-f95151aadf4f",
   "metadata": {},
   "outputs": [],
   "source": [
    "# Calculate the silhouette score to measure the quality of the clustering\n",
    "# silhouette_avg = silhouette_score(scaled_features,clusters)\n",
    "# print(\"The average silhouette score is:\", silhouette_avg)\n",
    "\n",
    "# features.to_csv(R\"C:\\Users\\Namra\\Desktop\\AI_Data\\clustered_data1.csv\", index=False)"
   ]
  }
 ],
 "metadata": {
  "kernelspec": {
   "display_name": "Python 3 (ipykernel)",
   "language": "python",
   "name": "python3"
  },
  "language_info": {
   "codemirror_mode": {
    "name": "ipython",
    "version": 3
   },
   "file_extension": ".py",
   "mimetype": "text/x-python",
   "name": "python",
   "nbconvert_exporter": "python",
   "pygments_lexer": "ipython3",
   "version": "3.12.1"
  }
 },
 "nbformat": 4,
 "nbformat_minor": 5
}
